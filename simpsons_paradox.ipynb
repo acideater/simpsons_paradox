{
 "cells": [
  {
   "cell_type": "markdown",
   "metadata": {
    "collapsed": true
   },
   "source": [
    "# Simpson's Paradox\n",
    "Use `admission_data.csv` for this exercise."
   ]
  },
  {
   "cell_type": "code",
   "execution_count": 2,
   "metadata": {},
   "outputs": [
    {
     "data": {
      "text/html": [
       "<div>\n",
       "<style scoped>\n",
       "    .dataframe tbody tr th:only-of-type {\n",
       "        vertical-align: middle;\n",
       "    }\n",
       "\n",
       "    .dataframe tbody tr th {\n",
       "        vertical-align: top;\n",
       "    }\n",
       "\n",
       "    .dataframe thead th {\n",
       "        text-align: right;\n",
       "    }\n",
       "</style>\n",
       "<table border=\"1\" class=\"dataframe\">\n",
       "  <thead>\n",
       "    <tr style=\"text-align: right;\">\n",
       "      <th></th>\n",
       "      <th>student_id</th>\n",
       "      <th>gender</th>\n",
       "      <th>major</th>\n",
       "      <th>admitted</th>\n",
       "    </tr>\n",
       "  </thead>\n",
       "  <tbody>\n",
       "    <tr>\n",
       "      <th>0</th>\n",
       "      <td>35377</td>\n",
       "      <td>female</td>\n",
       "      <td>Chemistry</td>\n",
       "      <td>False</td>\n",
       "    </tr>\n",
       "    <tr>\n",
       "      <th>1</th>\n",
       "      <td>56105</td>\n",
       "      <td>male</td>\n",
       "      <td>Physics</td>\n",
       "      <td>True</td>\n",
       "    </tr>\n",
       "    <tr>\n",
       "      <th>2</th>\n",
       "      <td>31441</td>\n",
       "      <td>female</td>\n",
       "      <td>Chemistry</td>\n",
       "      <td>False</td>\n",
       "    </tr>\n",
       "    <tr>\n",
       "      <th>3</th>\n",
       "      <td>51765</td>\n",
       "      <td>male</td>\n",
       "      <td>Physics</td>\n",
       "      <td>True</td>\n",
       "    </tr>\n",
       "    <tr>\n",
       "      <th>4</th>\n",
       "      <td>53714</td>\n",
       "      <td>female</td>\n",
       "      <td>Physics</td>\n",
       "      <td>True</td>\n",
       "    </tr>\n",
       "  </tbody>\n",
       "</table>\n",
       "</div>"
      ],
      "text/plain": [
       "   student_id  gender      major  admitted\n",
       "0       35377  female  Chemistry     False\n",
       "1       56105    male    Physics      True\n",
       "2       31441  female  Chemistry     False\n",
       "3       51765    male    Physics      True\n",
       "4       53714  female    Physics      True"
      ]
     },
     "execution_count": 2,
     "metadata": {},
     "output_type": "execute_result"
    }
   ],
   "source": [
    "\n",
    "import pandas as pd\n",
    "import numpy as np\n",
    "\n",
    "# Load and view first few lines of dataset\n",
    "\n",
    "df = pd.read_csv('admission_data.csv')\n",
    "df.head()"
   ]
  },
  {
   "cell_type": "markdown",
   "metadata": {},
   "source": [
    "### Proportion and admission rate for each gender"
   ]
  },
  {
   "cell_type": "code",
   "execution_count": 3,
   "metadata": {},
   "outputs": [
    {
     "name": "stdout",
     "output_type": "stream",
     "text": [
      "        student_id\n",
      "gender            \n",
      "female         257\n",
      "male           243\n"
     ]
    }
   ],
   "source": [
    "\n",
    "gender = df.groupby(['gender']).agg({'student_id':'count'})\n",
    "print(gender)"
   ]
  },
  {
   "cell_type": "code",
   "execution_count": 4,
   "metadata": {},
   "outputs": [
    {
     "name": "stdout",
     "output_type": "stream",
     "text": [
      "        student_id\n",
      "gender            \n",
      "female       0.514\n",
      "male         0.486\n"
     ]
    }
   ],
   "source": [
    "# Proportion of students that are female\n",
    "# Proportion of students that are male\n",
    "\n",
    "total = len(df['student_id'])\n",
    "prop = gender/total \n",
    "print(prop)"
   ]
  },
  {
   "cell_type": "code",
   "execution_count": 26,
   "metadata": {},
   "outputs": [
    {
     "name": "stdout",
     "output_type": "stream",
     "text": [
      "0.287937743191\n"
     ]
    }
   ],
   "source": [
    "# Admission rate for females\n",
    "\n",
    "f_admitted = df[df.gender=='female'].admitted.value_counts()[True]\n",
    "f_applied = df[df.gender=='female'].admitted.value_counts().sum()\n",
    "admission_female = f_admitted/f_applied\n",
    "print(admission_female)"
   ]
  },
  {
   "cell_type": "code",
   "execution_count": 27,
   "metadata": {},
   "outputs": [
    {
     "name": "stdout",
     "output_type": "stream",
     "text": [
      "0.485596707819\n"
     ]
    }
   ],
   "source": [
    "# Admission rate for males\n",
    "\n",
    "m_admitted = df[df.gender=='male'].admitted.value_counts()[True]\n",
    "m_applied = df[df.gender=='male'].admitted.value_counts().sum()\n",
    "admission_male = m_admitted/m_applied\n",
    "\n",
    "print(admission_male)"
   ]
  },
  {
   "cell_type": "markdown",
   "metadata": {},
   "source": [
    "### Proportion and admission rate for physics majors of each gender"
   ]
  },
  {
   "cell_type": "code",
   "execution_count": 29,
   "metadata": {},
   "outputs": [
    {
     "name": "stdout",
     "output_type": "stream",
     "text": [
      "0.120622568093\n"
     ]
    }
   ],
   "source": [
    "# What proportion of female students are majoring in physics?\n",
    "\n",
    "f_physics = df[df.gender=='female'].major.value_counts()['Physics']\n",
    "f_physics_total = df[df.gender=='female'].major.value_counts().sum()\n",
    "f_physics_prop = f_physics/f_physics_total\n",
    "\n",
    "print(f_physics_prop)"
   ]
  },
  {
   "cell_type": "code",
   "execution_count": 8,
   "metadata": {},
   "outputs": [
    {
     "name": "stdout",
     "output_type": "stream",
     "text": [
      "0.925925925926\n"
     ]
    }
   ],
   "source": [
    "# What proportion of male students are majoring in physics?\n",
    "m_physics = df[df.gender=='male'].major.value_counts()['Physics']\n",
    "m_physics_total = df[df.gender=='male'].major.value_counts().sum()\n",
    "m_physics_prop = m_physics/m_physics_total\n",
    "print(m_physics_prop)"
   ]
  },
  {
   "cell_type": "code",
   "execution_count": 21,
   "metadata": {},
   "outputs": [
    {
     "name": "stdout",
     "output_type": "stream",
     "text": [
      "0.741935483871\n"
     ]
    }
   ],
   "source": [
    "# Admission rate for female physics majors\n",
    "\n",
    "mask = (df.gender == 'female')&(df.major == 'Physics')\n",
    "\n",
    "f_admitted = df[mask].admitted.value_counts()[True]\n",
    "f_applied = df[mask].admitted.value_counts().sum()\n",
    "admission_f_phy = f_admitted/f_applied\n",
    "print(admission_f_phy)"
   ]
  },
  {
   "cell_type": "code",
   "execution_count": 19,
   "metadata": {},
   "outputs": [
    {
     "name": "stdout",
     "output_type": "stream",
     "text": [
      "0.515555555556\n"
     ]
    }
   ],
   "source": [
    "# Admission rate for male physics majors\n",
    "\n",
    "mask = (df.gender == 'male')&(df.major == 'Physics')\n",
    "\n",
    "m_admitted = df[mask].admitted.value_counts()[True]\n",
    "m_applied = df[mask].admitted.value_counts().sum()\n",
    "admission_m_phy = m_admitted/m_applied\n",
    "print(admission_m_phy)"
   ]
  },
  {
   "cell_type": "markdown",
   "metadata": {},
   "source": [
    "### Proportion and admission rate for chemistry majors of each gender"
   ]
  },
  {
   "cell_type": "code",
   "execution_count": 50,
   "metadata": {},
   "outputs": [
    {
     "name": "stdout",
     "output_type": "stream",
     "text": [
      "87.9377431907\n"
     ]
    }
   ],
   "source": [
    "# What proportion of female students are majoring in chemistry?\n",
    "f_chem = df[df.gender=='female'].major.value_counts()['Chemistry']\n",
    "f_chem_total = df[df.gender=='female'].major.value_counts().sum()\n",
    "f_chem_prop = f_chem/f_chem_total\n",
    "print(f_chem_prop)"
   ]
  },
  {
   "cell_type": "code",
   "execution_count": 51,
   "metadata": {},
   "outputs": [
    {
     "name": "stdout",
     "output_type": "stream",
     "text": [
      "7.40740740741\n"
     ]
    }
   ],
   "source": [
    "# What proportion of male students are majoring in chemistry?\n",
    "m_chem = df[df.gender=='male'].major.value_counts()['Chemistry']\n",
    "m_chem_total = df[df.gender=='male'].major.value_counts().sum()\n",
    "m_chem_prop = m_chem/m_chem_total\n",
    "print(m_chem_prop)"
   ]
  },
  {
   "cell_type": "code",
   "execution_count": 22,
   "metadata": {},
   "outputs": [
    {
     "name": "stdout",
     "output_type": "stream",
     "text": [
      "0.225663716814\n"
     ]
    }
   ],
   "source": [
    "# Admission rate for female chemistry majors\n",
    "mask = (df.gender == 'female')&(df.major == 'Chemistry')\n",
    "\n",
    "f_admitted = df[mask].admitted.value_counts()[True]\n",
    "f_applied = df[mask].admitted.value_counts().sum()\n",
    "admission_f_chem = f_admitted/f_applied\n",
    "print(admission_f_chem)"
   ]
  },
  {
   "cell_type": "code",
   "execution_count": 23,
   "metadata": {},
   "outputs": [
    {
     "name": "stdout",
     "output_type": "stream",
     "text": [
      "0.111111111111\n"
     ]
    }
   ],
   "source": [
    "# Admission rate for male chemistry majors\n",
    "mask = (df.gender == 'male')&(df.major == 'Chemistry')\n",
    "\n",
    "m_admitted = df[mask].admitted.value_counts()[True]\n",
    "m_applied = df[mask].admitted.value_counts().sum()\n",
    "admission_m_chem = m_admitted/m_applied\n",
    "print(admission_m_chem)"
   ]
  },
  {
   "cell_type": "markdown",
   "metadata": {},
   "source": [
    "### Admission rate for each major"
   ]
  },
  {
   "cell_type": "code",
   "execution_count": 24,
   "metadata": {},
   "outputs": [
    {
     "name": "stdout",
     "output_type": "stream",
     "text": [
      "0.54296875\n"
     ]
    }
   ],
   "source": [
    "# Admission rate for physics majors\n",
    "phy_admitted = df[df.major=='Physics'].admitted.value_counts()[True]\n",
    "phy_applied = df[df.major=='Physics'].admitted.value_counts().sum()\n",
    "admission_phy = phy_admitted/phy_applied\n",
    "\n",
    "print(admission_phy)"
   ]
  },
  {
   "cell_type": "code",
   "execution_count": 25,
   "metadata": {},
   "outputs": [
    {
     "name": "stdout",
     "output_type": "stream",
     "text": [
      "0.217213114754\n"
     ]
    }
   ],
   "source": [
    "# Admission rate for chemistry majors\n",
    "chem_admitted = df[df.major=='Chemistry'].admitted.value_counts()[True]\n",
    "chem_applied = df[df.major=='Chemistry'].admitted.value_counts().sum()\n",
    "admission_chem = chem_admitted/chem_applied\n",
    "\n",
    "print(admission_chem)"
   ]
  },
  {
   "cell_type": "code",
   "execution_count": null,
   "metadata": {},
   "outputs": [],
   "source": []
  }
 ],
 "metadata": {
  "kernelspec": {
   "display_name": "Python 3",
   "language": "python",
   "name": "python3"
  },
  "language_info": {
   "codemirror_mode": {
    "name": "ipython",
    "version": 3
   },
   "file_extension": ".py",
   "mimetype": "text/x-python",
   "name": "python",
   "nbconvert_exporter": "python",
   "pygments_lexer": "ipython3",
   "version": "3.6.3"
  }
 },
 "nbformat": 4,
 "nbformat_minor": 2
}
